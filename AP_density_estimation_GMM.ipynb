{
 "cells": [
  {
   "cell_type": "code",
   "execution_count": 1,
   "metadata": {
    "collapsed": false
   },
   "outputs": [
    {
     "name": "stderr",
     "output_type": "stream",
     "text": [
      "/home/cristian/anaconda3/envs/pax/lib/python3.4/site-packages/matplotlib/font_manager.py:273: UserWarning: Matplotlib is building the font cache using fc-list. This may take a moment.\n",
      "  warnings.warn('Matplotlib is building the font cache using fc-list. This may take a moment.')\n",
      "/home/cristian/anaconda3/envs/pax/lib/python3.4/site-packages/matplotlib/font_manager.py:273: UserWarning: Matplotlib is building the font cache using fc-list. This may take a moment.\n",
      "  warnings.warn('Matplotlib is building the font cache using fc-list. This may take a moment.')\n"
     ]
    }
   ],
   "source": [
    "import os\n",
    "import ROOT\n",
    "import numpy as np\n",
    "import pandas as pd\n",
    "\n",
    "\n",
    "from tqdm import tqdm\n",
    "\n",
    "import matplotlib\n",
    "import matplotlib.pyplot as plt\n",
    "from matplotlib.colors import LogNorm\n",
    "from multihist import Hist1d, Histdd\n",
    "\n",
    "import scipy.integrate as sp_int\n",
    "from scipy.optimize import curve_fit\n",
    "import scipy.stats as sps\n",
    "%matplotlib inline\n",
    "\n",
    "matplotlib.rcParams['font.size'] = 14\n",
    "matplotlib.rcParams['image.cmap'] = 'viridis'\n",
    "#see the AP(copy) and save!!!!! the fit parameters (res)"
   ]
  },
  {
   "cell_type": "code",
   "execution_count": 11,
   "metadata": {
    "collapsed": false
   },
   "outputs": [
    {
     "data": {
      "text/plain": [
       "['processed_wf3_Board1_AP_LED_2.60V.root',\n",
       " 'processed_wf0_Board1_AP_LED_2.45V.root',\n",
       " 'processed_wf1_Board0_AP_LED_2.325V.root',\n",
       " 'processed_wf0_Board0_AP_LED_2.41V.root',\n",
       " 'processed_wf1_Board1_AP_LED_2.325V.root',\n",
       " 'processed_wf3_Board0_AP_LED_2.45V.root',\n",
       " 'processed_wf4_Board1_AP_LED_2.51V.root',\n",
       " 'AP_figs',\n",
       " 'processed_wf4_Board0_AP_LED_2.45V.root',\n",
       " 'processed_wf5_Board0_AP_LED_2.41V.root',\n",
       " 'processed_wf2_Board0_AP_LED_2.325V.root',\n",
       " 'processed_wf2_Board1_AP_LED_2.35V.root',\n",
       " 'processed_wf6_Board1_AP_LED_2.57V.root',\n",
       " 'processed_wf5_Board1_AP_LED_2.45V.root']"
      ]
     },
     "execution_count": 11,
     "metadata": {},
     "output_type": "execute_result"
    }
   ],
   "source": [
    "path = \"/home/cristian/Suxess_files/data/run4/gas/ap180103/\"\n",
    "path_CSV=\"/home/cristian/Suxess_files/data/run4/\"\n",
    "#board=0\n",
    "#channel=3\n",
    "os.listdir(path)"
   ]
  },
  {
   "cell_type": "code",
   "execution_count": 3,
   "metadata": {
    "collapsed": true
   },
   "outputs": [],
   "source": [
    "elem_charge = 1.6021766e-19\n",
    "\n",
    "def area_to_charge(a):\n",
    "    # area in adc counts * 10 * ns\n",
    "    factor = 2.25 * 10e-9 / (2**14 * 50) #  * elem_charge)\n",
    "    return factor * (a / 10)"
   ]
  },
  {
   "cell_type": "code",
   "execution_count": 4,
   "metadata": {
    "collapsed": true
   },
   "outputs": [],
   "source": [
    "illum_pe = []\n",
    "\n",
    "def process_ap_file(filename):\n",
    "    file = ROOT.TFile(filename)\n",
    "    tree = file.Get('T1')\n",
    "\n",
    "    pos = []\n",
    "    area = []\n",
    "    #entropy = []\n",
    "    height = []\n",
    "    width50 = []\n",
    "    evtnb =[]\n",
    "    for event in tqdm(file.Get('T1')):\n",
    "        if len(event.Position)>0:\n",
    "            for p in event.Position:\n",
    "                pos.append(p)\n",
    "        if len(event.Area)>0:        \n",
    "            for a in event.Area:\n",
    "                area.append(a)\n",
    "        #for e in event.Entropy:\n",
    "          #  entropy.append(e)\n",
    "        if len(event.Height)>0:\n",
    "            for h in event.Height:\n",
    "                height.append(h)\n",
    "        if len(event.Width50)>0:\n",
    "            for w in event.Width50:\n",
    "                width50.append(w)\n",
    "        #for ev in event.Evtnb:\n",
    "            #evtnb.append(ev)not the same lenght of area, positio etc. It's only the total number of waveforms not number of peaks\n",
    "    d = {'time': np.array(pos),\n",
    "        'area': area_to_charge(np.array(area))/(5e6 * elem_charge),\n",
    "        'height': np.array(height),\n",
    "        'width50':np.array(width50)}#,\n",
    "        #'event_number': np.array(evtnb)}\n",
    "    df = pd.DataFrame(d)\n",
    "    t0_df=df[df['area']>100]\n",
    "    t0 = np.mean(t0_df.time)\n",
    "    d={'time': np.array((pos-t0)/100),\n",
    "       'area': area_to_charge(np.array(area))/(5e6 * elem_charge),\n",
    "       'height': np.array(height),\n",
    "       'width50': np.array(width50)}#,\n",
    "       #'event_number': np.array(evtnb)}\n",
    "    df = pd.DataFrame(d)\n",
    "    \n",
    "    #print (df[df['area']<0])\n",
    "    #print(df[df['area']==0])\n",
    "    return df"
   ]
  },
  {
   "cell_type": "code",
   "execution_count": 5,
   "metadata": {
    "collapsed": true
   },
   "outputs": [],
   "source": [
    "def estimateArPosition(V):\n",
    "    R2 = 72.6e6 #resistence after photocatode\n",
    "    R1 = 92.6e6 #Total resistence\n",
    "    \n",
    "    fV = V - (V*R2)/R1\n",
    "    ArPeak = 29.4402*np.sqrt(1/fV)\n",
    "    return ArPeak - 0.07\n",
    "\n",
    "def estimateXePosition(V):\n",
    "    R2 = 72.6e6 #resistence after photocatode\n",
    "    R1 = 92.6e6 #Total resistence\n",
    "    fV = V - (V*R2)/R1\n",
    "    XePeak = 53.2778*np.sqrt(1/fV)\n",
    "    return XePeak - 0.11\n",
    "\n"
   ]
  },
  {
   "cell_type": "code",
   "execution_count": 58,
   "metadata": {
    "collapsed": true
   },
   "outputs": [],
   "source": [
    "def plot(data_frame, pmt, valHV5e6):\n",
    "    #data_frame = data_frame[(data_frame['area']>=0) & (data_frame['time']>-0.1)]\n",
    "    plt.figure(figsize=(10,6))\n",
    "    #data_frame1=data_frame[((data_frame['height']<100)|(data_frame['width50']>4))]\n",
    "    #print(data_frame)\n",
    "    plt.hist2d(data_frame['time'], data_frame['area'], bins=(550,500), range=((-0.5, 5), (0,500)), norm=LogNorm()) #bins 200\n",
    "    plt.colorbar(label='counts')\n",
    "    XePeak = estimateXePosition(valHV5e6)\n",
    "    ArPeak = estimateArPosition(valHV5e6)\n",
    "    plt.axvline(ArPeak, color='b', linestyle='dashed', linewidth=2, label = 'expected Ar peak')\n",
    "    plt.axvline(XePeak, color='red', linestyle='dashed', linewidth=2, label = 'expected Xe peak')\n",
    "    plt.legend(loc = 'upper right')\n",
    "    plt.xlabel('Time [$\\mu$s]')\n",
    "    plt.ylabel('Area [pe]')\n",
    "    plt.title('PMT %d' % pmt)\n",
    "    #plt.savefig(path+ 'AP_figs/' + 'ap_pmt%d_run4_gas.png' % pmt, dpi=150, transparent= False)\n",
    "    plt.show()"
   ]
  },
  {
   "cell_type": "code",
   "execution_count": 14,
   "metadata": {
    "collapsed": false
   },
   "outputs": [
    {
     "name": "stderr",
     "output_type": "stream",
     "text": [
      "250000it [00:12, 20658.31it/s]\n"
     ]
    }
   ],
   "source": [
    "file = os.listdir(path)[2]\n",
    "#print(file)\n",
    "channel = int(file.split(\"_\")[1].lstrip(\"wf\"))\n",
    "board = int(file.split(\"_\")[2].lstrip(\"Board\"))\n",
    "pmt = channel + 1 + board * 7\n",
    "run = int(path.split(\"/\")[5].lstrip(\"run\"))\n",
    "day = int(path.split(\"/\")[7].lstrip(\"ap\"))\n",
    "    \n",
    "    \n",
    "    #pmt = to_pmt(board,channel)  #ONLY FOR RUN 0!!!\n",
    "    #print(pmt)\n",
    "    #if pmt == None:\n",
    "    #    continue\n",
    "        \n",
    "        \n",
    "AP_data = process_ap_file(path + file)"
   ]
  },
  {
   "cell_type": "code",
   "execution_count": 59,
   "metadata": {
    "collapsed": false
   },
   "outputs": [
    {
     "data": {
      "image/png": "[encoded data removed]",
      "text/plain": [
       "<matplotlib.figure.Figure at 0x7f6df3acf240>"
      ]
     },
     "metadata": {},
     "output_type": "display_data"
    }
   ],
   "source": [
    "plot (AP_data, pmt, 1350)"
   ]
  },
  {
   "cell_type": "code",
   "execution_count": 27,
   "metadata": {
    "collapsed": true
   },
   "outputs": [],
   "source": [
    "from sklearn.mixture import GMM\n",
    "from scipy.stats import norm"
   ]
  },
  {
   "cell_type": "code",
   "execution_count": 20,
   "metadata": {
    "collapsed": true
   },
   "outputs": [],
   "source": [
    "X=np.array([AP_data.area,AP_data.time])"
   ]
  },
  {
   "cell_type": "code",
   "execution_count": 34,
   "metadata": {
    "collapsed": false
   },
   "outputs": [
    {
     "name": "stdout",
     "output_type": "stream",
     "text": [
      "[[  2.05075406e+02   1.40811099e+00]\n",
      " [  4.71084612e-01   8.36912328e-01]\n",
      " [  1.79211009e+00   2.38045157e+00]\n",
      " ..., \n",
      " [  3.96803358e+00   5.61803358e+00]\n",
      " [  6.34803358e+00  -1.19664225e-02]\n",
      " [  3.31803358e+00   4.54803358e+00]]\n"
     ]
    }
   ],
   "source": [
    "X_re= X.reshape(len(AP_data),2)\n",
    "print (X_re)"
   ]
  },
  {
   "cell_type": "code",
   "execution_count": 83,
   "metadata": {
    "collapsed": false
   },
   "outputs": [
    {
     "name": "stdout",
     "output_type": "stream",
     "text": [
      "17\n",
      "18\n",
      "19\n",
      "20\n",
      "21\n",
      "22\n",
      "23\n",
      "24\n",
      "25\n",
      "26\n",
      "27\n",
      "28\n",
      "29\n",
      "best fit converged: True\n",
      "BIC: n_components =  29\n"
     ]
    }
   ],
   "source": [
    "def compute_GMM(n_clusters, n_iter=1000, min_covar=3, covariance_type='full'):\n",
    "    clf = GMM(n_clusters, covariance_type=covariance_type,\n",
    "              n_iter=n_iter, min_covar=min_covar)\n",
    "    clf.fit(X_re)\n",
    "    print (\"converged:\", clf.converged_)\n",
    "    return clf\n",
    "\n",
    "\n",
    "#---------------- It's the correct way but it takes way too long! --------------------------\n",
    "\n",
    "\"\"\"N = np.arange(17, 30)\n",
    "\n",
    "def compute_GMM(N, covariance_type='full', n_iter=1000):\n",
    "    models = [None for n in N]\n",
    "    for i in range(len(N)):\n",
    "        print (N[i])\n",
    "        models[i] = GMM(n_components=N[i], n_iter=n_iter,\n",
    "                        covariance_type=covariance_type)\n",
    "        models[i].fit(X_re)\n",
    "    return models\n",
    "\n",
    "models = compute_GMM(N)\n",
    "BIC = [m.bic(X_re) for m in models]\n",
    "i_best = np.argmin(BIC)\n",
    "gmm_best = models[i_best]\n",
    "print (\"best fit converged:\", gmm_best.converged_)\n",
    "print (\"BIC: n_components =  %i\" % N[i_best]) \"\"\"\n",
    "#---------------------------------------------------------------"
   ]
  },
  {
   "cell_type": "code",
   "execution_count": 97,
   "metadata": {
    "collapsed": true
   },
   "outputs": [],
   "source": [
    "# Compute a grid on which to evaluate the result\n",
    "Nx = 550\n",
    "Ny = 500\n",
    "xmin, xmax = (-0.5, 5)\n",
    "ymin, ymax = (0, 50)\n",
    "\n",
    "Xgrid = np.vstack(map(np.ravel, np.meshgrid(np.linspace(xmin, xmax, Nx),\n",
    "                                            np.linspace(ymin, ymax, Ny)))).T"
   ]
  },
  {
   "cell_type": "code",
   "execution_count": 98,
   "metadata": {
    "collapsed": false
   },
   "outputs": [],
   "source": [
    "#clf = compute_GMM(n_clusters=100)\n",
    "\n"
   ]
  },
  {
   "cell_type": "code",
   "execution_count": 99,
   "metadata": {
    "collapsed": true
   },
   "outputs": [],
   "source": [
    "log_dens = clf.score(Xgrid).reshape(Ny, Nx)"
   ]
  },
  {
   "cell_type": "code",
   "execution_count": 100,
   "metadata": {
    "collapsed": false
   },
   "outputs": [
    {
     "data": {
      "text/plain": [
       "(-1.0, 5.0, 0.0, 50.0)"
      ]
     },
     "execution_count": 100,
     "metadata": {},
     "output_type": "execute_result"
    },
    {
     "data": {
      "image/png": "[encoded data removed]",
      "text/plain": [
       "<matplotlib.figure.Figure at 0x7f6df39a57f0>"
      ]
     },
     "metadata": {},
     "output_type": "display_data"
    }
   ],
   "source": [
    "plt.figure(figsize=(10,6))\n",
    "plt.imshow(np.exp(log_dens), origin='lower', cmap=plt.cm.binary,\n",
    "          extent=[xmin, xmax,ymin, ymax])\n",
    "plt.axis(\"auto\")"
   ]
  },
  {
   "cell_type": "code",
   "execution_count": null,
   "metadata": {
    "collapsed": false
   },
   "outputs": [],
   "source": []
  },
  {
   "cell_type": "code",
   "execution_count": null,
   "metadata": {
    "collapsed": true
   },
   "outputs": [],
   "source": []
  }
 ],
 "metadata": {
  "kernelspec": {
   "display_name": "Python 3",
   "language": "python",
   "name": "python3"
  },
  "language_info": {
   "codemirror_mode": {
    "name": "ipython",
    "version": 3
   },
   "file_extension": ".py",
   "mimetype": "text/x-python",
   "name": "python",
   "nbconvert_exporter": "python",
   "pygments_lexer": "ipython3",
   "version": "3.4.5"
  }
 },
 "nbformat": 4,
 "nbformat_minor": 2
}
